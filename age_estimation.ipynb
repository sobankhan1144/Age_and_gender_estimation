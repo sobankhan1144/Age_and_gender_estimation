{
  "cells": [
    {
      "cell_type": "code",
      "execution_count": null,
      "metadata": {
        "colab": {
          "base_uri": "https://localhost:8080/"
        },
        "id": "X__h8SnasaHc",
        "outputId": "bad893a2-955a-4127-c321-8c03496a7e36"
      },
      "outputs": [
        {
          "output_type": "stream",
          "name": "stdout",
          "text": [
            "Mounted at /content/drive\n"
          ]
        }
      ],
      "source": [
        "from google.colab import drive\n",
        "drive.mount('/content/drive')"
      ]
    },
    {
      "cell_type": "code",
      "execution_count": null,
      "metadata": {
        "id": "Yg7U4ZVpNnDo"
      },
      "outputs": [],
      "source": [
        "# not important after importing files\n",
        "\n",
        "# to download \n",
        "\n",
        "!pip3 install https://github.com/Martlgap/face-alignment-mtcnn/releases/latest/download/face_alignment_mtcnn-0.3-py3-none-any.whl\n",
        "!git clone https://github.com/Martlgap/face-alignment-mtcnn.git\n",
        "%cd /content/face-alignment-mtcnn\n",
        "%cd /content/face-alignment-mtcnn\n",
        "!touch fgnet_mtcnn.py\n",
        "!mkdir cropped_fgnet"
      ]
    },
    {
      "cell_type": "code",
      "source": [
        "# not important after importing files\n",
        "# to install tflite for mtcnn face allignment\n",
        "!echo \"deb https://packages.cloud.google.com/apt coral-edgetpu-stable main\" | sudo tee /etc/apt/sources.list.d/coral-edgetpu.list\n",
        "!curl https://packages.cloud.google.com/apt/doc/apt-key.gpg | sudo apt-key add -\n",
        "!sudo apt-get update\n",
        "!sudo apt-get install python3-tflite-runtime"
      ],
      "metadata": {
        "id": "WpvG3HpmGMOk"
      },
      "execution_count": null,
      "outputs": []
    },
    {
      "cell_type": "code",
      "execution_count": null,
      "metadata": {
        "id": "QUmOpnXOIgK1"
      },
      "outputs": [],
      "source": [
        "# not important after importing files\n",
        "# for face cropping and allignment of fgnet dataset\n",
        "import cv2\n",
        "import pandas as pd\n",
        "import matplotlib.pyplot as plt\n",
        "import facealignment\n",
        "import os\n",
        "\n",
        "\n",
        "img_dim = (224, 224)\n",
        "\n",
        "df = pd.read_csv('/content/face-alignment-mtcnn/new_fgnet.csv', usecols= ['full_path','age'])\n",
        "\n",
        "for i in range(1002):\n",
        "  the_path, the_age = df.iloc[i]\n",
        "  the_split = the_path.split(\"/\")\n",
        "  the_name = the_split[-1]\n",
        "  print(the_name)\n",
        "  final_path = \"/\" + str(the_path)\n",
        "  single_face = cv2.imread(final_path)\n",
        "  tool = facealignment.FaceAlignmentTools()\n",
        "  # single_face = cv2.cvtColor(single_face, cv2.COLOR_BGR2RGB)\n",
        "\n",
        "  try:\n",
        "    aligned_img = tool.align(single_face)\n",
        "    resized = cv2.resize(aligned_img, img_dim, interpolation = cv2.INTER_AREA)\n",
        "    save_path = \"./cropped_fgnet/\" + str(the_name)\n",
        "    os.chdir('/content/face-alignment-mtcnn/cropped_fgnet/')\n",
        "    cv2.imwrite(the_name, resized)\n",
        "    #plt.imshow(resized)\n",
        "    #plt.axis('off')\n",
        "    #plt.savefig(save_path, bbox_inches=0)\n",
        "\n",
        "  except:\n",
        "    print(i)\n"
      ]
    },
    {
      "cell_type": "code",
      "source": [
        "# not important after importing files\n",
        "# for face cropping and allignment of wiki_imdb dataset\n",
        "import cv2\n",
        "import pandas as pd\n",
        "import matplotlib.pyplot as plt\n",
        "import facealignment\n",
        "import os\n",
        "\n",
        "\n",
        "img_dim = (224, 224)\n",
        "\n",
        "df = pd.read_csv('/content/face-alignment-mtcnn/wiki.csv', usecols= ['full_path','age'])\n",
        "\n",
        "for i in range(1002):\n",
        "  the_path, the_age = df.iloc[i]\n",
        "  the_split = the_path.split(\"/\")\n",
        "  the_name = the_split[-1]\n",
        "  print(the_name)\n",
        "  final_path = \"/\" + str(the_path)\n",
        "  single_face = cv2.imread(final_path)\n",
        "  tool = facealignment.FaceAlignmentTools()\n",
        "  # single_face = cv2.cvtColor(single_face, cv2.COLOR_BGR2RGB)\n",
        "\n",
        "  try:\n",
        "    aligned_img = tool.align(single_face)\n",
        "    resized = cv2.resize(aligned_img, img_dim, interpolation = cv2.INTER_AREA)\n",
        "    save_path = \"./cropped_wiki/\" + str(the_name)\n",
        "    os.chdir('/content/face-alignment-mtcnn/cropped_wiki/')\n",
        "    cv2.imwrite(the_name, resized)\n",
        "    #plt.imshow(resized)\n",
        "    #plt.axis('off')\n",
        "    #plt.savefig(save_path, bbox_inches=0)\n",
        "\n",
        "  except:\n",
        "    print(i)\n"
      ],
      "metadata": {
        "id": "NbGXXKp6HAXl"
      },
      "execution_count": null,
      "outputs": []
    },
    {
      "cell_type": "code",
      "source": [
        "# not important after loading files\n",
        "# fgnet age grouping\n",
        "\n",
        "import pandas as pd\n",
        "\n",
        "\n",
        "df = pd.read_csv('/content/fgnet.csv')\n",
        "ages = df['age']\n",
        "age_group_array = np.zeros(len(ages))\n",
        "\n",
        "def age_group(age):\n",
        "    if age >=0 and age <=2:\n",
        "        return 0\n",
        "    elif age >2 and age <=5:\n",
        "        return 1\n",
        "    elif age >5 and age <=13:\n",
        "        return 2\n",
        "    elif age >13 and age <=18:\n",
        "        return 3\n",
        "    elif age >18 and age <=24:\n",
        "        return 4\n",
        "    elif age >24 and age <=33:\n",
        "        return 5\n",
        "    elif age >33 and age <=48:\n",
        "        return 6\n",
        "    elif age >48 and age <=64:\n",
        "        return 7\n",
        "    else:\n",
        "        return 8\n",
        "\n",
        "\n",
        "for i in range(len(ages)):\n",
        "  the_act_age = ages[i]\n",
        "  #print(the_act_age)\n",
        "  final_age_group = age_group(the_act_age)\n",
        "  age_group_array[i] = final_age_group\n",
        "\n",
        "as_int = age_group_array.astype(int)\n",
        "as_string = as_int.astype(str)\n",
        "df[\"age_groups\"] = as_string\n",
        "df.to_csv(\"fgnet_with_age_groups.csv\", index=False)\n",
        "\n",
        "#print(age_group_array)\n",
        "#print(ages)"
      ],
      "metadata": {
        "id": "oKxpjrguIhhH"
      },
      "execution_count": null,
      "outputs": []
    },
    {
      "cell_type": "code",
      "source": [
        "# not important after loading files\n",
        "# wiki age grouping\n",
        "\n",
        "import pandas as pd\n",
        "\n",
        "\n",
        "df = pd.read_csv('/content/wiki.csv')\n",
        "ages = df['age']\n",
        "age_group_array = np.zeros(len(ages))\n",
        "\n",
        "def age_group(age):\n",
        "    if age >=0 and age <=2:\n",
        "        return 0\n",
        "    elif age >2 and age <=5:\n",
        "        return 1\n",
        "    elif age >5 and age <=13:\n",
        "        return 2\n",
        "    elif age >13 and age <=18:\n",
        "        return 3\n",
        "    elif age >18 and age <=24:\n",
        "        return 4\n",
        "    elif age >24 and age <=33:\n",
        "        return 5\n",
        "    elif age >33 and age <=48:\n",
        "        return 6\n",
        "    elif age >48 and age <=64:\n",
        "        return 7\n",
        "    else:\n",
        "        return 8\n",
        "\n",
        "\n",
        "for i in range(len(ages)):\n",
        "  the_act_age = ages[i]\n",
        "  #print(the_act_age)\n",
        "  final_age_group = age_group(the_act_age)\n",
        "  age_group_array[i] = final_age_group\n",
        "\n",
        "as_int = age_group_array.astype(int)\n",
        "as_string = as_int.astype(str)\n",
        "df[\"age_groups\"] = as_string\n",
        "df.to_csv(\"fgnet_with_age_groups.csv\", index=False)\n",
        "\n",
        "#print(age_group_array)\n",
        "#print(ages)"
      ],
      "metadata": {
        "id": "bVwUgXdrImJL"
      },
      "execution_count": null,
      "outputs": []
    },
    {
      "cell_type": "code",
      "execution_count": null,
      "metadata": {
        "id": "c0a8kR2QO0Xb"
      },
      "outputs": [],
      "source": [
        "# not important after importing files\n",
        "# make fgnet csv file\n",
        "\n",
        "from glob import glob\n",
        "import pandas as pd\n",
        "import re\n",
        "\n",
        "final_labels = []\n",
        "\n",
        "df = pd.read_csv('/content/fgnet_age__gender_true_label.csv')\n",
        "\n",
        "# ages = df['age']\n",
        "full_paths = df['full_path']\n",
        "age_groups = df['age_groups']\n",
        "genders = df['gender']\n",
        "\n",
        "\n",
        "for i in range(len(full_paths)):\n",
        "  final_string = ''\n",
        "  gender_string = ''\n",
        "  if genders[i] == 0:\n",
        "    gender_string = 'female'\n",
        "  else:\n",
        "    gender_string = 'male'\n",
        "  mid_string = 'age_group: ' + str(age_groups[i]) + ' ' + 'gender: ' + gender_string\n",
        "  final_string = mid_string\n",
        "  final_labels.append(final_string)\n",
        "  \n",
        "\n",
        "df['final_label'] = final_labels\n",
        "df.to_csv('fgnet_final_file.csv', columns=['full_path','age', 'age_groups', 'gender','true_label','final_label'], index=False)\n"
      ]
    },
    {
      "cell_type": "code",
      "execution_count": null,
      "metadata": {
        "id": "TJQpg8KFZI-x"
      },
      "outputs": [],
      "source": [
        "# not important after importing files\n",
        "# make wiki csv file\n",
        "\n",
        "from glob import glob\n",
        "import pandas as pd\n",
        "import re\n",
        "\n",
        "final_labels = []\n",
        "\n",
        "df = pd.read_csv('/content/fgnet_age__gender_true_label.csv')\n",
        "\n",
        "# ages = df['age']\n",
        "full_paths = df['full_path']\n",
        "age_groups = df['age_groups']\n",
        "genders = df['gender']\n",
        "\n",
        "\n",
        "for i in range(len(full_paths)):\n",
        "  final_string = ''\n",
        "  gender_string = ''\n",
        "  if genders[i] == 0:\n",
        "    gender_string = 'female'\n",
        "  else:\n",
        "    gender_string = 'male'\n",
        "  mid_string = 'age_group: ' + str(age_groups[i]) + ' ' + 'gender: ' + gender_string\n",
        "  final_string = mid_string\n",
        "  final_labels.append(final_string)\n",
        "  \n",
        "\n",
        "df['final_label'] = final_labels\n",
        "df.to_csv('wiki_final_file.csv', columns=['full_path','age', 'age_groups', 'gender','true_label','final_label'], index=False)\n"
      ]
    },
    {
      "cell_type": "code",
      "source": [
        "# not important after importing files\n",
        "# make wiki utk combined csv file\n",
        "from numpy.core.numeric import full\n",
        "import pandas as pd\n",
        "\n",
        "\n",
        "df_wiki = pd.read_csv('/content/wiki_final_file.csv')\n",
        "df_utk = pd.read_csv('/content/utk_final.csv')\n",
        "\n",
        "init_utk_path = '/content/resized_utk_face/'\n",
        "\n",
        "full_paths = []\n",
        "ages = []\n",
        "age_groups = []\n",
        "gender = []\n",
        "final_label = []\n",
        "\n",
        "wiki_paths = df_wiki['full_path']\n",
        "wiki_ages = df_wiki['age']\n",
        "wiki_age_groups = df_wiki['age_groups']\n",
        "wiki_genders = df_wiki['gender']\n",
        "wiki_labels = df_wiki['final_label']\n",
        "\n",
        "utk_paths = df_utk['full_path']\n",
        "utk_ages = df_utk['age']\n",
        "utk_age_groups = df_utk['age_groups']\n",
        "utk_genders = df_utk['gender']\n",
        "utk_labels = df_utk['final_label']\n",
        "\n",
        "\n",
        "full_paths.extend(wiki_paths)\n",
        "full_paths.extend(utk_paths)\n",
        "ages.extend(wiki_ages)\n",
        "ages.extend(utk_ages)\n",
        "age_groups.extend(wiki_age_groups)\n",
        "age_groups.extend(utk_age_groups)\n",
        "gender.extend(wiki_genders)\n",
        "gender.extend(utk_genders)\n",
        "final_label.extend(wiki_labels)\n",
        "final_label.extend(utk_labels)\n",
        "\n",
        "dict = {'full_path': full_paths, 'age': ages, 'age_groups': age_groups, 'gender': gender, 'final_label': final_label}  \n",
        "       \n",
        "df = pd.DataFrame(dict) \n",
        "    \n",
        "# saving the dataframe \n",
        "df.to_csv('wiki_utk_final.csv') \n",
        "\n",
        "# print(full_paths[1:10])"
      ],
      "metadata": {
        "id": "2Ja8d34m-Rsy"
      },
      "execution_count": null,
      "outputs": []
    },
    {
      "cell_type": "code",
      "source": [
        "# copying important files from drive\n",
        "!cp /content/drive/MyDrive/fgnet_final_file.csv /content/\n",
        "!cp /content/drive/MyDrive/wiki_final_file.csv /content/\n",
        "!cp /content/drive/MyDrive/wiki_model.h5 /content/\n",
        "!cp /content/drive/MyDrive/wiki_final_cropped.zip /content\n",
        "!unzip /content/wiki_final_cropped.zip\n",
        "!mv  /content/content/wiki_final_cropped /content\n",
        "!rm -r /content/content\n",
        "!cp /content/drive/MyDrive/cropped_fgnet_latest.zip /content\n",
        "!unzip /content/cropped_fgnet_latest.zip\n",
        "!cp /content/drive/MyDrive/utk_face.zip /content\n",
        "!unzip /content/utk_face.zip\n",
        "!mv /content/content/resized_utk_face /content\n",
        "!rm -r /content/content\n",
        "!cp /content/drive/MyDrive/utk_final.csv /content\n",
        "!cp /content/drive/MyDrive/wiki_utk_final.csv /content"
      ],
      "metadata": {
        "id": "xtY62c7eAM-f"
      },
      "execution_count": null,
      "outputs": []
    },
    {
      "cell_type": "code",
      "source": [
        "!cp /content/wiki_utk_final.csv /content/drive/MyDrive"
      ],
      "metadata": {
        "id": "DUmvK_qhJkVf"
      },
      "execution_count": null,
      "outputs": []
    },
    {
      "cell_type": "code",
      "source": [
        "!cp /content/all_datasets_with_csv.zip /content/drive/MyDrive"
      ],
      "metadata": {
        "id": "nJyvsdFTUgCf"
      },
      "execution_count": null,
      "outputs": []
    },
    {
      "cell_type": "code",
      "source": [
        "# wiki data generator for vgg16 model\n",
        "\n",
        "from keras_preprocessing.image import ImageDataGenerator\n",
        "import pandas as pd\n",
        "\n",
        "# datagen=ImageDataGenerator(rescale=1./255.,validation_split=0.25)\n",
        "\n",
        "train_df = pd.read_csv('/content/utk_final.csv') # for fgnet \"/content/fgnet_with_age_groups.csv\" \n",
        "train_df['final_label'] = train_df['final_label'].astype(str)\n",
        "test_df = pd.read_csv('/content/fgnet_final_file.csv') # for fgnet \"/content/fgnet_with_age_groups.csv\" \n",
        "test_df['final_label'] = test_df['final_label'].astype(str)\n",
        "\n",
        "# train_df['age_group'] = train_df['age_group'].astype(str)\n",
        "# train_df['gender'] = train_df['gender'].astype(str)\n",
        "\n",
        "# y_coll = ['age_group', 'gender']\n",
        "\n",
        "train_datagen = ImageDataGenerator(\n",
        "    rescale=1 / 255.0,\n",
        "    validation_split=0.25\n",
        ")\n",
        "\n",
        "train_generator = train_datagen.flow_from_dataframe(\n",
        "    dataframe=train_df,\n",
        "    x_col=\"full_path\",\n",
        "    y_col=\"final_label\",\n",
        "    target_size=(224, 224),\n",
        "    batch_size=32,\n",
        "    class_mode=\"categorical\",  \n",
        "    subset='training',\n",
        "    shuffle=True,\n",
        "    seed=42\n",
        ")\n",
        "\n",
        "valid_generator = train_datagen.flow_from_dataframe(\n",
        "    dataframe=train_df,\n",
        "    x_col=\"full_path\",\n",
        "    y_col=\"final_label\",\n",
        "    target_size=(224, 224),\n",
        "    batch_size=32,\n",
        "    class_mode=\"categorical\",\n",
        "    subset='validation',\n",
        "    shuffle=True,\n",
        "    seed=42\n",
        ")\n",
        "\n",
        "test_datagen=ImageDataGenerator(rescale=1./255.)\n",
        "\n",
        "test_generator=test_datagen.flow_from_dataframe(\n",
        "dataframe=test_df,\n",
        "directory=\"/content/cropped_fgnet/\",\n",
        "x_col=\"full_path\",\n",
        "y_col=None,\n",
        "batch_size=1,\n",
        "seed=42,\n",
        "shuffle=False,\n",
        "class_mode=None,\n",
        "target_size=(32,32))\n"
      ],
      "metadata": {
        "colab": {
          "base_uri": "https://localhost:8080/"
        },
        "id": "3QqWxhhOh3IT",
        "outputId": "90393721-ddb6-44ed-8890-b3da9d7a5d87"
      },
      "execution_count": null,
      "outputs": [
        {
          "output_type": "stream",
          "name": "stdout",
          "text": [
            "Found 17781 validated image filenames belonging to 18 classes.\n",
            "Found 5927 validated image filenames belonging to 18 classes.\n",
            "Found 947 validated image filenames.\n"
          ]
        },
        {
          "output_type": "stream",
          "name": "stderr",
          "text": [
            "/usr/local/lib/python3.7/dist-packages/keras_preprocessing/image/dataframe_iterator.py:282: UserWarning: Found 56 invalid image filename(s) in x_col=\"full_path\". These filename(s) will be ignored.\n",
            "  .format(n_invalid, x_col)\n"
          ]
        }
      ]
    },
    {
      "cell_type": "code",
      "source": [
        "# to load previous saved model\n",
        "from tensorflow import keras\n",
        "model = keras.models.load_model('/content/wiki_model.h5')"
      ],
      "metadata": {
        "id": "B99wO9STpLhF"
      },
      "execution_count": null,
      "outputs": []
    },
    {
      "cell_type": "code",
      "source": [
        "import pandas as pd\n",
        "import numpy as np\n",
        "from PIL import Image\n",
        "from tensorflow import keras\n",
        "\n",
        "df = pd.read_csv('/content/fgnet_final_file.csv')\n",
        "\n",
        "\n",
        "full_path = df['full_path']\n",
        "labels = df['true_label']"
      ],
      "metadata": {
        "id": "ofAVOwJVMrTH"
      },
      "execution_count": null,
      "outputs": []
    },
    {
      "cell_type": "code",
      "source": [
        "import matplotlib.pyplot as plt\n",
        "import numpy as np\n",
        "\n",
        "base_dir = '/content/cropped_fgnet/'\n",
        "\n",
        "pred_list = []\n",
        "test_list = []\n",
        "\n",
        "\n",
        "loop_num = 0\n",
        "loop_range = 900      # all = 946\n",
        "\n",
        "for path in full_path:\n",
        "  final_dir = base_dir + path\n",
        "  try:\n",
        "    the_image = Image.open(final_dir)  # change number her to get diff prediction\n",
        "  except:\n",
        "      print(loop_num)\n",
        "  the_image_array = np.array(the_image)\n",
        "  new_shape = np.reshape(the_image_array, (1, 224, 224, 3))\n",
        "  # plt.imshow(the_image)\n",
        "  # plt.show()\n",
        "  #print(neigh.predict(intermediate_output))\n",
        "  the_pred = model.predict(new_shape)\n",
        "  #print(loop_num)\n",
        "  pred_list.append(the_pred)\n",
        "  test_list.append(labels[loop_num])\n",
        "  loop_num += 1\n",
        "  if loop_num > loop_range:\n",
        "    break"
      ],
      "metadata": {
        "id": "1iK1mJcjMFF_"
      },
      "execution_count": null,
      "outputs": []
    },
    {
      "cell_type": "code",
      "source": [
        "# for reshaping labels according to model prediction for MSE calculations\n",
        "import numpy as np\n",
        "\n",
        "final_true_labels = []\n",
        "\n",
        "for num_list in test_list:\n",
        "  mynewlist = [s for s in num_list if s.isdigit()]\n",
        "  inter_label = np.zeros(18).astype(int)\n",
        "  num_counter = 0\n",
        "  int_checker = mynewlist[-1]\n",
        "  if int(mynewlist[-1]) == 1:\n",
        "    num_counter = num_counter + 9\n",
        "  for num in range(9):\n",
        "    if int(mynewlist[num]) == 1:\n",
        "      inter_label[num_counter] = 1\n",
        "      final_true_labels.append(inter_label)\n",
        "    num_counter += 1\n"
      ],
      "metadata": {
        "id": "E8yXz7DBQaBb"
      },
      "execution_count": null,
      "outputs": []
    },
    {
      "cell_type": "code",
      "source": [
        "# MSE calculation for model trained no wiki-imdb\n",
        "from tensorflow.keras.losses import MeanSquaredError\n",
        "mse = MeanSquaredError()\n",
        "the_mse = mse(final_true_labels, pred_list)\n",
        "print(the_mse)"
      ],
      "metadata": {
        "colab": {
          "base_uri": "https://localhost:8080/"
        },
        "id": "aktVSCcVNGa9",
        "outputId": "16958cc8-639d-4514-c591-68a5117e4375"
      },
      "execution_count": null,
      "outputs": [
        {
          "output_type": "stream",
          "name": "stdout",
          "text": [
            "tf.Tensor(0.100529015, shape=(), dtype=float32)\n"
          ]
        }
      ]
    },
    {
      "cell_type": "code",
      "source": [
        "model.summary()"
      ],
      "metadata": {
        "colab": {
          "base_uri": "https://localhost:8080/"
        },
        "id": "__gxDedHpVzT",
        "outputId": "83daa577-e1f7-44b7-cc19-3d074431dd3f"
      },
      "execution_count": null,
      "outputs": [
        {
          "output_type": "stream",
          "name": "stdout",
          "text": [
            "Model: \"sequential_1\"\n",
            "_________________________________________________________________\n",
            " Layer (type)                Output Shape              Param #   \n",
            "=================================================================\n",
            " vgg16 (Functional)          (None, 7, 7, 512)         14714688  \n",
            "                                                                 \n",
            " flatten_1 (Flatten)         (None, 25088)             0         \n",
            "                                                                 \n",
            " dense_3 (Dense)             (None, 4000)              100356000 \n",
            "                                                                 \n",
            " dropout_1 (Dropout)         (None, 4000)              0         \n",
            "                                                                 \n",
            " dense_4 (Dense)             (None, 200)               800200    \n",
            "                                                                 \n",
            " dense_5 (Dense)             (None, 18)                3618      \n",
            "                                                                 \n",
            "=================================================================\n",
            "Total params: 115,874,506\n",
            "Trainable params: 101,159,818\n",
            "Non-trainable params: 14,714,688\n",
            "_________________________________________________________________\n"
          ]
        }
      ]
    },
    {
      "cell_type": "code",
      "source": [
        "# evaluate model on fgnet dataset\n",
        "STEP_SIZE_TEST=test_generator.n//test_generator.batch_size\n",
        "results = model.evaluate_generator(generator=valid_generator, steps=STEP_SIZE_TEST)\n",
        "print(\"test loss, test acc:\", results)\n",
        "# print(len(results))"
      ],
      "metadata": {
        "colab": {
          "base_uri": "https://localhost:8080/"
        },
        "id": "SLWj0nXBs1IO",
        "outputId": "94232d94-26b7-4f11-ebb9-92c5df3989b0"
      },
      "execution_count": null,
      "outputs": [
        {
          "output_type": "stream",
          "name": "stderr",
          "text": [
            "/usr/local/lib/python3.7/dist-packages/ipykernel_launcher.py:3: UserWarning: `Model.evaluate_generator` is deprecated and will be removed in a future version. Please use `Model.evaluate`, which supports generators.\n",
            "  This is separate from the ipykernel package so we can avoid doing imports until\n",
            "WARNING:tensorflow:Your input ran out of data; interrupting training. Make sure that your dataset or generator can generate at least `steps_per_epoch * epochs` batches (in this case, 947 batches). You may need to use the repeat() function when building your dataset.\n"
          ]
        },
        {
          "output_type": "stream",
          "name": "stdout",
          "text": [
            "test loss, test acc: [1.5853495597839355, 0.4029019773006439]\n"
          ]
        }
      ]
    },
    {
      "cell_type": "code",
      "execution_count": null,
      "metadata": {
        "id": "tPvwcWkJzqjU",
        "colab": {
          "base_uri": "https://localhost:8080/"
        },
        "outputId": "f69d808e-c8f6-4873-f5fb-3274a55da809"
      },
      "outputs": [
        {
          "output_type": "stream",
          "name": "stdout",
          "text": [
            "Model: \"vgg16\"\n",
            "_________________________________________________________________\n",
            " Layer (type)                Output Shape              Param #   \n",
            "=================================================================\n",
            " input_5 (InputLayer)        [(None, 224, 224, 3)]     0         \n",
            "                                                                 \n",
            " block1_conv1 (Conv2D)       (None, 224, 224, 64)      1792      \n",
            "                                                                 \n",
            " block1_conv2 (Conv2D)       (None, 224, 224, 64)      36928     \n",
            "                                                                 \n",
            " block1_pool (MaxPooling2D)  (None, 112, 112, 64)      0         \n",
            "                                                                 \n",
            " block2_conv1 (Conv2D)       (None, 112, 112, 128)     73856     \n",
            "                                                                 \n",
            " block2_conv2 (Conv2D)       (None, 112, 112, 128)     147584    \n",
            "                                                                 \n",
            " block2_pool (MaxPooling2D)  (None, 56, 56, 128)       0         \n",
            "                                                                 \n",
            " block3_conv1 (Conv2D)       (None, 56, 56, 256)       295168    \n",
            "                                                                 \n",
            " block3_conv2 (Conv2D)       (None, 56, 56, 256)       590080    \n",
            "                                                                 \n",
            " block3_conv3 (Conv2D)       (None, 56, 56, 256)       590080    \n",
            "                                                                 \n",
            " block3_pool (MaxPooling2D)  (None, 28, 28, 256)       0         \n",
            "                                                                 \n",
            " block4_conv1 (Conv2D)       (None, 28, 28, 512)       1180160   \n",
            "                                                                 \n",
            " block4_conv2 (Conv2D)       (None, 28, 28, 512)       2359808   \n",
            "                                                                 \n",
            " block4_conv3 (Conv2D)       (None, 28, 28, 512)       2359808   \n",
            "                                                                 \n",
            " block4_pool (MaxPooling2D)  (None, 14, 14, 512)       0         \n",
            "                                                                 \n",
            " block5_conv1 (Conv2D)       (None, 14, 14, 512)       2359808   \n",
            "                                                                 \n",
            " block5_conv2 (Conv2D)       (None, 14, 14, 512)       2359808   \n",
            "                                                                 \n",
            " block5_conv3 (Conv2D)       (None, 14, 14, 512)       2359808   \n",
            "                                                                 \n",
            " block5_pool (MaxPooling2D)  (None, 7, 7, 512)         0         \n",
            "                                                                 \n",
            "=================================================================\n",
            "Total params: 14,714,688\n",
            "Trainable params: 0\n",
            "Non-trainable params: 14,714,688\n",
            "_________________________________________________________________\n"
          ]
        }
      ],
      "source": [
        "from tensorflow.keras.applications.vgg16 import VGG16\n",
        "from tensorflow.keras import layers, models\n",
        "\n",
        "base_model = VGG16(weights=\"imagenet\", include_top=False, input_shape=(224,224,3))\n",
        "for layer in base_model.layers:\n",
        "    layer.trainable = False\n",
        "base_model.summary()"
      ]
    },
    {
      "cell_type": "code",
      "execution_count": null,
      "metadata": {
        "id": "Q0MVADLP0-6m"
      },
      "outputs": [],
      "source": [
        "flatten_layer = layers.Flatten()\n",
        "dense_layer_1 = layers.Dense(4000, activation='relu')\n",
        "dense_layer_2 = layers.Dense(200, activation='relu')\n",
        "dropout = layers.Dropout(0.5)\n",
        "prediction_layer = layers.Dense(18, activation='softmax')\n",
        "\n",
        "\n",
        "wiki_model = models.Sequential([\n",
        "    base_model,\n",
        "    flatten_layer,\n",
        "    dense_layer_1,\n",
        "    dropout,\n",
        "    dense_layer_2,\n",
        "    dropout,\n",
        "    prediction_layer\n",
        "])"
      ]
    },
    {
      "cell_type": "code",
      "source": [
        "wiki_model.summary()"
      ],
      "metadata": {
        "id": "mvV3Ga4UiP3C",
        "colab": {
          "base_uri": "https://localhost:8080/"
        },
        "outputId": "88a2ea79-ae85-48f1-e33a-fd8865bafff7"
      },
      "execution_count": null,
      "outputs": [
        {
          "output_type": "stream",
          "name": "stdout",
          "text": [
            "Model: \"sequential_1\"\n",
            "_________________________________________________________________\n",
            " Layer (type)                Output Shape              Param #   \n",
            "=================================================================\n",
            " vgg16 (Functional)          (None, 7, 7, 512)         14714688  \n",
            "                                                                 \n",
            " flatten_1 (Flatten)         (None, 25088)             0         \n",
            "                                                                 \n",
            " dense_3 (Dense)             (None, 4000)              100356000 \n",
            "                                                                 \n",
            " dropout_1 (Dropout)         multiple                  0         \n",
            "                                                                 \n",
            " dense_4 (Dense)             (None, 200)               800200    \n",
            "                                                                 \n",
            " dense_5 (Dense)             (None, 18)                3618      \n",
            "                                                                 \n",
            "=================================================================\n",
            "Total params: 115,874,506\n",
            "Trainable params: 114,139,018\n",
            "Non-trainable params: 1,735,488\n",
            "_________________________________________________________________\n"
          ]
        }
      ]
    },
    {
      "cell_type": "code",
      "source": [
        "from tensorflow.keras.callbacks import EarlyStopping\n",
        "\n",
        "model.compile(     # use model name wiki_model to train from scratch\n",
        "    optimizer='adam',\n",
        "    loss='categorical_crossentropy',\n",
        "    metrics=['accuracy'],\n",
        ")\n",
        "\n",
        "\n",
        "es = EarlyStopping(monitor='val_accuracy', mode='max', patience=5,  restore_best_weights=True)\n",
        "\n",
        "history  = model.fit(train_generator, # use model name wiki_model to train from scratch\n",
        "                    validation_data = valid_generator,\n",
        "                    steps_per_epoch = train_generator.n//train_generator.batch_size,\n",
        "                    validation_steps = valid_generator.n//valid_generator.batch_size,\n",
        "                    epochs=5, callbacks=[es])\n",
        "\n",
        "\n"
      ],
      "metadata": {
        "colab": {
          "base_uri": "https://localhost:8080/"
        },
        "id": "YYmcjedMiTtQ",
        "outputId": "19145b2d-62a2-45db-f36d-f0acfd6ffccf"
      },
      "execution_count": null,
      "outputs": [
        {
          "output_type": "stream",
          "name": "stdout",
          "text": [
            "Epoch 1/5\n",
            "555/555 [==============================] - 124s 222ms/step - loss: 1.7027 - accuracy: 0.3919 - val_loss: 1.6588 - val_accuracy: 0.4046\n",
            "Epoch 2/5\n",
            "555/555 [==============================] - 124s 223ms/step - loss: 1.6697 - accuracy: 0.3961 - val_loss: 1.6641 - val_accuracy: 0.3811\n",
            "Epoch 3/5\n",
            "555/555 [==============================] - 124s 224ms/step - loss: 1.6360 - accuracy: 0.4051 - val_loss: 1.6485 - val_accuracy: 0.3959\n",
            "Epoch 4/5\n",
            "555/555 [==============================] - 125s 225ms/step - loss: 1.6046 - accuracy: 0.4125 - val_loss: 1.6061 - val_accuracy: 0.4377\n",
            "Epoch 5/5\n",
            "555/555 [==============================] - 125s 224ms/step - loss: 1.5767 - accuracy: 0.4200 - val_loss: 1.5852 - val_accuracy: 0.4032\n"
          ]
        }
      ]
    },
    {
      "cell_type": "code",
      "source": [
        "# results from wiki-imdb dataset\n",
        "import matplotlib.pyplot as plt\n",
        "# training loss and validation loss\n",
        "plt.plot(history.history['loss'])\n",
        "plt.plot(history.history['val_loss'])\n",
        "plt.legend(['loss', 'val_loss'], loc='upper left')\n",
        "plt.show()"
      ],
      "metadata": {
        "colab": {
          "base_uri": "https://localhost:8080/",
          "height": 266
        },
        "id": "qJduM1dMuQ0_",
        "outputId": "07914ca4-a2e7-44be-c92a-757bc2d9c285"
      },
      "execution_count": null,
      "outputs": [
        {
          "output_type": "display_data",
          "data": {
            "text/plain": [
              "<Figure size 432x288 with 1 Axes>"
            ],
            "image/png": "[encoded data removed]"
          },
          "metadata": {
            "needs_background": "light"
          }
        }
      ]
    },
    {
      "cell_type": "code",
      "source": [
        "# results from wiki-imdb dataset\n",
        "# training accuracy and validation accuracy\n",
        "plt.plot(history.history['accuracy'])\n",
        "plt.plot(history.history['val_accuracy'])\n",
        "plt.legend(['accuracy', 'val_accuracy'], loc='upper left')\n",
        "plt.show()"
      ],
      "metadata": {
        "colab": {
          "base_uri": "https://localhost:8080/",
          "height": 265
        },
        "id": "kf76juCjuddr",
        "outputId": "bdc171cf-ef22-4425-90c4-0642ec37d160"
      },
      "execution_count": null,
      "outputs": [
        {
          "output_type": "display_data",
          "data": {
            "text/plain": [
              "<Figure size 432x288 with 1 Axes>"
            ],
            "image/png": "[encoded data removed]"
          },
          "metadata": {
            "needs_background": "light"
          }
        }
      ]
    },
    {
      "cell_type": "code",
      "source": [
        "# results from utk dataset\n",
        "import matplotlib.pyplot as plt\n",
        "# training loss and validation loss\n",
        "plt.plot(history.history['loss'])\n",
        "plt.plot(history.history['val_loss'])\n",
        "plt.legend(['loss', 'val_loss'], loc='upper left')\n",
        "plt.show()"
      ],
      "metadata": {
        "colab": {
          "base_uri": "https://localhost:8080/",
          "height": 265
        },
        "id": "2whoUOsC1gxo",
        "outputId": "237135bf-8a78-400d-8b9c-73c226378ee2"
      },
      "execution_count": null,
      "outputs": [
        {
          "output_type": "display_data",
          "data": {
            "text/plain": [
              "<Figure size 432x288 with 1 Axes>"
            ],
            "image/png": "[encoded data removed]"
          },
          "metadata": {
            "needs_background": "light"
          }
        }
      ]
    },
    {
      "cell_type": "code",
      "source": [
        "# results from utk dataset\n",
        "# training accuracy and validation accuracy\n",
        "plt.plot(history.history['accuracy'])\n",
        "plt.plot(history.history['val_accuracy'])\n",
        "plt.legend(['accuracy', 'val_accuracy'], loc='upper left')\n",
        "plt.show()"
      ],
      "metadata": {
        "colab": {
          "base_uri": "https://localhost:8080/",
          "height": 265
        },
        "id": "QV3c1zDW1juy",
        "outputId": "d9a096e8-b67b-4bd7-afa4-9a6ef890ea56"
      },
      "execution_count": null,
      "outputs": [
        {
          "output_type": "display_data",
          "data": {
            "text/plain": [
              "<Figure size 432x288 with 1 Axes>"
            ],
            "image/png": "[encoded data removed]"
          },
          "metadata": {
            "needs_background": "light"
          }
        }
      ]
    },
    {
      "cell_type": "code",
      "source": [
        "# pretrained on wiki, fine tuned utk\n",
        "import matplotlib.pyplot as plt\n",
        "# training loss and validation loss\n",
        "plt.plot(history.history['loss'])\n",
        "plt.plot(history.history['val_loss'])\n",
        "plt.legend(['loss', 'val_loss'], loc='upper left')\n",
        "plt.show()"
      ],
      "metadata": {
        "colab": {
          "base_uri": "https://localhost:8080/",
          "height": 265
        },
        "id": "YJm8pOUe7WUT",
        "outputId": "30d5596c-0e44-45e0-9a98-f88550950f0c"
      },
      "execution_count": null,
      "outputs": [
        {
          "output_type": "display_data",
          "data": {
            "text/plain": [
              "<Figure size 432x288 with 1 Axes>"
            ],
            "image/png": "[encoded data removed]"
          },
          "metadata": {
            "needs_background": "light"
          }
        }
      ]
    },
    {
      "cell_type": "code",
      "source": [
        "# pretrained on wiki, fine tuned utk\n",
        "# training accuracy and validation accuracy\n",
        "plt.plot(history.history['accuracy'])\n",
        "plt.plot(history.history['val_accuracy'])\n",
        "plt.legend(['accuracy', 'val_accuracy'], loc='upper left')\n",
        "plt.show()"
      ],
      "metadata": {
        "colab": {
          "base_uri": "https://localhost:8080/",
          "height": 265
        },
        "id": "DSjS9d8K7Y5I",
        "outputId": "e072e2c1-546a-4165-de63-99d3869fc12b"
      },
      "execution_count": null,
      "outputs": [
        {
          "output_type": "display_data",
          "data": {
            "text/plain": [
              "<Figure size 432x288 with 1 Axes>"
            ],
            "image/png": "[encoded data removed]"
          },
          "metadata": {
            "needs_background": "light"
          }
        }
      ]
    },
    {
      "cell_type": "code",
      "source": [
        "###############################################################################\n",
        "# for fgnet fine_tuning "
      ],
      "metadata": {
        "id": "oQjiqB-MoiQU"
      },
      "execution_count": null,
      "outputs": []
    },
    {
      "cell_type": "code",
      "source": [
        "# utk data generator for vgg16 model pretrained on \n",
        "\n",
        "from keras_preprocessing.image import ImageDataGenerator\n",
        "import pandas as pd\n",
        "\n",
        "# datagen=ImageDataGenerator(rescale=1./255.,validation_split=0.25)\n",
        "\n",
        "train_df = pd.read_csv('/content/utk_final.csv') # for fgnet \"/content/fgnet_with_age_groups.csv\" \n",
        "train_df['final_label'] = train_df['final_label'].astype(str)\n",
        "# train_df['age_group'] = train_df['age_group'].astype(str)\n",
        "# train_df['gender'] = train_df['gender'].astype(str)\n",
        "\n",
        "# y_coll = ['age_group', 'gender']\n",
        "\n",
        "train_datagen = ImageDataGenerator(\n",
        "    rescale=1 / 255.0,\n",
        "    validation_split=0.25\n",
        ")\n",
        "\n",
        "train_generator = train_datagen.flow_from_dataframe(\n",
        "    dataframe=train_df,\n",
        "    directory=\"/content/resized_utk_face/\",\n",
        "    x_col=\"full_path\",\n",
        "    y_col=\"final_label\",\n",
        "    target_size=(224, 224),\n",
        "    batch_size=16,\n",
        "    class_mode=\"categorical\",  \n",
        "    subset='training',\n",
        "    shuffle=True,\n",
        "    seed=42\n",
        ")\n",
        "\n",
        "valid_generator = train_datagen.flow_from_dataframe(\n",
        "    dataframe=train_df,\n",
        "    directory=\"/content/resized_utk_face/\",\n",
        "    x_col=\"full_path\",\n",
        "    y_col=\"final_label\",\n",
        "    target_size=(224, 224),\n",
        "    batch_size=16,\n",
        "    class_mode=\"categorical\",\n",
        "    subset='validation',\n",
        "    shuffle=True,\n",
        "    seed=42\n",
        ")\n"
      ],
      "metadata": {
        "colab": {
          "base_uri": "https://localhost:8080/"
        },
        "id": "qQmFbWnVmkT7",
        "outputId": "a937c635-b4cf-47d7-c4c7-3060077cfab9"
      },
      "execution_count": null,
      "outputs": [
        {
          "output_type": "stream",
          "name": "stdout",
          "text": [
            "Found 17781 validated image filenames belonging to 18 classes.\n",
            "Found 5927 validated image filenames belonging to 18 classes.\n"
          ]
        }
      ]
    },
    {
      "cell_type": "code",
      "execution_count": null,
      "metadata": {
        "colab": {
          "base_uri": "https://localhost:8080/"
        },
        "id": "LBJNuOeU1bks",
        "outputId": "b4b06c58-0de0-41ac-b655-a5aff3faf816"
      },
      "outputs": [
        {
          "output_type": "stream",
          "name": "stdout",
          "text": [
            "Epoch 1/20\n",
            "1111/1111 [==============================] - 148s 131ms/step - loss: 2.2202 - accuracy: 0.2794 - val_loss: 1.9052 - val_accuracy: 0.3608\n",
            "Epoch 2/20\n",
            "1111/1111 [==============================] - 144s 129ms/step - loss: 1.9343 - accuracy: 0.3330 - val_loss: 1.7284 - val_accuracy: 0.3831\n",
            "Epoch 3/20\n",
            "1111/1111 [==============================] - 144s 130ms/step - loss: 1.8460 - accuracy: 0.3479 - val_loss: 1.6941 - val_accuracy: 0.4041\n",
            "Epoch 4/20\n",
            "1111/1111 [==============================] - 144s 129ms/step - loss: 1.7774 - accuracy: 0.3585 - val_loss: 1.6214 - val_accuracy: 0.4162\n",
            "Epoch 5/20\n",
            "1111/1111 [==============================] - 144s 129ms/step - loss: 1.7266 - accuracy: 0.3735 - val_loss: 1.6526 - val_accuracy: 0.3995\n",
            "Epoch 6/20\n",
            "1111/1111 [==============================] - 144s 129ms/step - loss: 1.6965 - accuracy: 0.3859 - val_loss: 1.6418 - val_accuracy: 0.4152\n",
            "Epoch 7/20\n",
            "1111/1111 [==============================] - 144s 129ms/step - loss: 1.6963 - accuracy: 0.3886 - val_loss: 1.6562 - val_accuracy: 0.3968\n",
            "Epoch 8/20\n",
            "1111/1111 [==============================] - 143s 129ms/step - loss: 1.6849 - accuracy: 0.3954 - val_loss: 1.6143 - val_accuracy: 0.4127\n",
            "Epoch 9/20\n",
            "1111/1111 [==============================] - 143s 129ms/step - loss: 1.6620 - accuracy: 0.3969 - val_loss: 1.6977 - val_accuracy: 0.4127\n",
            "Epoch 10/20\n",
            "1111/1111 [==============================] - 144s 130ms/step - loss: 1.6347 - accuracy: 0.4084 - val_loss: 1.5992 - val_accuracy: 0.4193\n",
            "Epoch 11/20\n",
            "1111/1111 [==============================] - 144s 129ms/step - loss: 1.6230 - accuracy: 0.4074 - val_loss: 1.6033 - val_accuracy: 0.4076\n",
            "Epoch 12/20\n",
            "1111/1111 [==============================] - 144s 129ms/step - loss: 1.6055 - accuracy: 0.4118 - val_loss: 1.5944 - val_accuracy: 0.4235\n",
            "Epoch 13/20\n",
            "1111/1111 [==============================] - 143s 129ms/step - loss: 1.5708 - accuracy: 0.4264 - val_loss: 1.5838 - val_accuracy: 0.4299\n",
            "Epoch 14/20\n",
            "1111/1111 [==============================] - 143s 129ms/step - loss: 1.5611 - accuracy: 0.4299 - val_loss: 1.6298 - val_accuracy: 0.4117\n",
            "Epoch 15/20\n",
            "1111/1111 [==============================] - 144s 129ms/step - loss: 1.5573 - accuracy: 0.4298 - val_loss: 1.6857 - val_accuracy: 0.3691\n",
            "Epoch 16/20\n",
            "1111/1111 [==============================] - 144s 129ms/step - loss: 1.5766 - accuracy: 0.4247 - val_loss: 1.6937 - val_accuracy: 0.3922\n",
            "Epoch 17/20\n",
            "1111/1111 [==============================] - 143s 129ms/step - loss: 1.6213 - accuracy: 0.4145 - val_loss: 1.6904 - val_accuracy: 0.4014\n",
            "Epoch 18/20\n",
            "1111/1111 [==============================] - 143s 129ms/step - loss: 1.6248 - accuracy: 0.4124 - val_loss: 1.6348 - val_accuracy: 0.4243\n",
            "Epoch 19/20\n",
            "1111/1111 [==============================] - 143s 129ms/step - loss: 1.6126 - accuracy: 0.4187 - val_loss: 1.7030 - val_accuracy: 0.4130\n",
            "Epoch 20/20\n",
            "1111/1111 [==============================] - 143s 129ms/step - loss: 1.5893 - accuracy: 0.4247 - val_loss: 1.7830 - val_accuracy: 0.3757\n"
          ]
        }
      ],
      "source": [
        "from tensorflow.keras.callbacks import EarlyStopping\n",
        "\n",
        "model.compile(     # use model name wiki_model to train from scratch\n",
        "    optimizer='adam',\n",
        "    loss='categorical_crossentropy',\n",
        "    metrics=['accuracy'],\n",
        ")\n",
        "\n",
        "\n",
        "es = EarlyStopping(monitor='val_accuracy', mode='max', patience=10,  restore_best_weights=True)\n",
        "\n",
        "history  = model.fit(train_generator, # use model name wiki_model to train from scratch\n",
        "                    validation_data = valid_generator,\n",
        "                    steps_per_epoch = train_generator.n//train_generator.batch_size,\n",
        "                    validation_steps = valid_generator.n//valid_generator.batch_size,\n",
        "                    epochs=20, callbacks=[es])\n"
      ]
    },
    {
      "cell_type": "code",
      "source": [
        "import matplotlib.pyplot as plt\n",
        "# training loss and validation loss\n",
        "plt.plot(history.history['loss'])\n",
        "plt.plot(history.history['val_loss'])\n",
        "plt.legend(['loss', 'val_loss'], loc='upper left')\n",
        "plt.show()"
      ],
      "metadata": {
        "colab": {
          "base_uri": "https://localhost:8080/",
          "height": 265
        },
        "id": "E6Pk_Fg5r5aj",
        "outputId": "b689d6a3-3e08-4012-ae6a-13a2d51b7fbe"
      },
      "execution_count": null,
      "outputs": [
        {
          "output_type": "display_data",
          "data": {
            "text/plain": [
              "<Figure size 432x288 with 1 Axes>"
            ],
            "image/png": "[encoded data removed]"
          },
          "metadata": {
            "needs_background": "light"
          }
        }
      ]
    },
    {
      "cell_type": "code",
      "source": [
        "# training accuracy and validation accuracy\n",
        "plt.plot(history.history['accuracy'])\n",
        "plt.plot(history.history['val_accuracy'])\n",
        "plt.legend(['accuracy', 'val_accuracy'], loc='upper left')\n",
        "plt.show()"
      ],
      "metadata": {
        "colab": {
          "base_uri": "https://localhost:8080/",
          "height": 265
        },
        "id": "mMv6iiY-r-lD",
        "outputId": "d1033fa8-5587-4711-cc84-41c6e5f09d25"
      },
      "execution_count": null,
      "outputs": [
        {
          "output_type": "display_data",
          "data": {
            "text/plain": [
              "<Figure size 432x288 with 1 Axes>"
            ],
            "image/png": "[encoded data removed]"
          },
          "metadata": {
            "needs_background": "light"
          }
        }
      ]
    },
    {
      "cell_type": "code",
      "source": [
        "for i, layer in enumerate(model.layers): # naming layers to get intermediate output\n",
        "  layer._name = 'layer_' + str(i)"
      ],
      "metadata": {
        "id": "GUjo82gH0_18"
      },
      "execution_count": null,
      "outputs": []
    },
    {
      "cell_type": "code",
      "source": [
        "# extracting features from second last layer\n",
        "\n",
        "import pandas as pd\n",
        "import numpy as np\n",
        "from PIL import Image\n",
        "from tensorflow import keras\n",
        "\n",
        "df = pd.read_csv('/content/wiki_final_file.csv')\n",
        "\n",
        "path_list = []\n",
        "feature_list = []\n",
        "label_list = []\n",
        "\n",
        "layer_name = 'layer_4'\n",
        "\n",
        "full_path = df['full_path']\n",
        "labels = df['age']    # 'true_label'\n",
        "\n",
        "\n",
        "for i in range(1000): # adjust number according to dataset size or use 'len(full_path)' to run on all dataset\n",
        "  the_image = Image.open(full_path[i])\n",
        "  the_image_array = np.array(the_image)\n",
        "  new_shape = np.reshape(the_image_array, (1, 224, 224, 3))\n",
        "  prediction = model.predict(new_shape)\n",
        "  intermediate_layer_model = keras.Model(inputs=model.input,\n",
        "                                        outputs=model.get_layer(layer_name).output)\n",
        "\n",
        "  intermediate_output = intermediate_layer_model(new_shape)\n",
        "  final_inter_output = np.reshape(intermediate_output,(200))\n",
        "  path_list.append(full_path[i])\n",
        "  label_list.append(labels[i])\n",
        "  feature_list.append(final_inter_output)\n",
        "  #print(i)\n",
        "\n"
      ],
      "metadata": {
        "id": "vyIY-XUCsa5P"
      },
      "execution_count": null,
      "outputs": []
    },
    {
      "cell_type": "code",
      "source": [
        "# training knn classifier\n",
        "from sklearn.neighbors import KNeighborsClassifier\n",
        "import matplotlib.pyplot as plt\n",
        "\n",
        "\n",
        "arr_1 = np.array(feature_list)\n",
        "arr_2 = np.array(label_list)\n",
        "\n",
        "neigh = KNeighborsClassifier(n_neighbors=3)\n",
        "neigh.fit(feature_list, label_list)\n"
      ],
      "metadata": {
        "id": "1mapxJUAQXbu",
        "colab": {
          "base_uri": "https://localhost:8080/"
        },
        "outputId": "4e9ebbeb-3188-41dd-84e6-18de120c6a6c"
      },
      "execution_count": null,
      "outputs": [
        {
          "output_type": "execute_result",
          "data": {
            "text/plain": [
              "KNeighborsClassifier(n_neighbors=3)"
            ]
          },
          "metadata": {},
          "execution_count": 86
        }
      ]
    },
    {
      "cell_type": "code",
      "source": [
        "import pandas as pd\n",
        "import numpy as np\n",
        "from PIL import Image\n",
        "from tensorflow import keras\n",
        "\n",
        "df = pd.read_csv('/content/fgnet_final_file.csv')\n",
        "\n",
        "\n",
        "full_path = df['full_path']\n",
        "labels = df['age']      # 'true_label'"
      ],
      "metadata": {
        "id": "a5XchPlhZ4Lr"
      },
      "execution_count": null,
      "outputs": []
    },
    {
      "cell_type": "code",
      "source": [
        "import matplotlib.pyplot as plt\n",
        "\n",
        "\n",
        "base_dir = '/content/cropped_fgnet/'\n",
        "\n",
        "path = full_path[19]\n",
        "\n",
        "final_dir = base_dir + path\n",
        "try:\n",
        "  the_image = Image.open(final_dir)  # change number her to get diff prediction\n",
        "except:\n",
        "    print(loop_num)\n",
        "the_image_array = np.array(the_image)\n",
        "new_shape = np.reshape(the_image_array, (1, 224, 224, 3))\n",
        "intermediate_output = intermediate_layer_model(new_shape)\n",
        "plt.imshow(the_image)\n",
        "plt.show()\n",
        "the_age_pred = neigh.predict(intermediate_output)\n",
        "final_str = 'Age: ' + str(the_age_pred)\n",
        "print(final_str)"
      ],
      "metadata": {
        "colab": {
          "base_uri": "https://localhost:8080/",
          "height": 286
        },
        "id": "kvIVW4wRdFVU",
        "outputId": "c95aa85b-a7e0-4daa-c08e-f21ac04fd95d"
      },
      "execution_count": null,
      "outputs": [
        {
          "output_type": "display_data",
          "data": {
            "text/plain": [
              "<Figure size 432x288 with 1 Axes>"
            ],
            "image/png": "[encoded data removed]"
          },
          "metadata": {
            "needs_background": "light"
          }
        },
        {
          "output_type": "stream",
          "name": "stdout",
          "text": [
            "Age: [28]\n"
          ]
        }
      ]
    },
    {
      "cell_type": "code",
      "source": [
        "!python"
      ],
      "metadata": {
        "colab": {
          "base_uri": "https://localhost:8080/"
        },
        "id": "CxEN_5e_kerv",
        "outputId": "5dbba480-ba39-4fe1-b085-8ed2c965a981"
      },
      "execution_count": null,
      "outputs": [
        {
          "output_type": "stream",
          "name": "stdout",
          "text": [
            "Python 3.7.14 (default, Sep  8 2022, 00:06:44) \n",
            "[GCC 7.5.0] on linux\n",
            "Type \"help\", \"copyright\", \"credits\" or \"license\" for more information.\n",
            ">>> exit()\n"
          ]
        }
      ]
    }
  ],
  "metadata": {
    "colab": {
      "collapsed_sections": [],
      "provenance": []
    },
    "kernelspec": {
      "display_name": "Python 3",
      "name": "python3"
    },
    "language_info": {
      "name": "python"
    },
    "accelerator": "GPU"
  },
  "nbformat": 4,
  "nbformat_minor": 0
}